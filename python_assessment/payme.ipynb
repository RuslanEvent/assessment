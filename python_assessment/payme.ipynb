{
 "cells": [
  {
   "cell_type": "code",
   "id": "initial_id",
   "metadata": {
    "ExecuteTime": {
     "end_time": "2024-06-03T06:39:43.930953Z",
     "start_time": "2024-06-03T06:39:43.649366Z"
    }
   },
   "source": [
    "import os\n",
    "\n",
    "import pandas as pd\n",
    "import numpy as np\n",
    "\n",
    "from utils import tot_claim_cnt_l180d, disb_bank_loan_wo_tbc, day_sinlastloan"
   ],
   "outputs": [],
   "execution_count": 1
  },
  {
   "cell_type": "code",
   "id": "fd662c8f-9283-4113-b558-aa0bd4ac0fee",
   "metadata": {
    "ExecuteTime": {
     "end_time": "2024-06-03T06:40:24.638262Z",
     "start_time": "2024-06-03T06:40:24.635817Z"
    }
   },
   "source": "CURRENT_DIR = os.getcwd()",
   "outputs": [],
   "execution_count": 15
  },
  {
   "cell_type": "code",
   "id": "bd299d9ddf1bfcad",
   "metadata": {
    "ExecuteTime": {
     "end_time": "2024-06-03T06:40:25.471925Z",
     "start_time": "2024-06-03T06:40:25.443314Z"
    }
   },
   "source": [
    "# Load the data\n",
    "df = pd.read_csv(f'{CURRENT_DIR}/data.csv')\n",
    "contract_features = pd.DataFrame()"
   ],
   "outputs": [],
   "execution_count": 16
  },
  {
   "cell_type": "code",
   "id": "59437fd9ecf7fe35",
   "metadata": {
    "ExecuteTime": {
     "end_time": "2024-06-03T06:40:26.177567Z",
     "start_time": "2024-06-03T06:40:26.151167Z"
    }
   },
   "source": [
    "features = pd.read_excel(f'{CURRENT_DIR}/features.xlsx')"
   ],
   "outputs": [],
   "execution_count": 17
  },
  {
   "cell_type": "code",
   "id": "7c08ac8c58dc97d2",
   "metadata": {
    "ExecuteTime": {
     "end_time": "2024-06-03T06:40:26.568905Z",
     "start_time": "2024-06-03T06:40:26.563862Z"
    }
   },
   "source": [
    "features"
   ],
   "outputs": [
    {
     "data": {
      "text/plain": [
       "   No                Feature  \\\n",
       "0   1    tot_claim_cnt_l180d   \n",
       "1   2  disb_bank_loan_wo_tbc   \n",
       "2   3        day_sinlastloan   \n",
       "\n",
       "                                               Logic  \\\n",
       "0  Description: number of claims for last 180 day...   \n",
       "1  Description: Sum of exposue of loans without T...   \n",
       "2  Description: Number of days since last loan. \\...   \n",
       "\n",
       "                                    If missing value  \n",
       "0  In case no claims, then put -3 as a value of t...  \n",
       "1  In case no claims, then put -3 as a value of t...  \n",
       "2  In case no claims at all, then put -3 as a val...  "
      ],
      "text/html": [
       "<div>\n",
       "<style scoped>\n",
       "    .dataframe tbody tr th:only-of-type {\n",
       "        vertical-align: middle;\n",
       "    }\n",
       "\n",
       "    .dataframe tbody tr th {\n",
       "        vertical-align: top;\n",
       "    }\n",
       "\n",
       "    .dataframe thead th {\n",
       "        text-align: right;\n",
       "    }\n",
       "</style>\n",
       "<table border=\"1\" class=\"dataframe\">\n",
       "  <thead>\n",
       "    <tr style=\"text-align: right;\">\n",
       "      <th></th>\n",
       "      <th>No</th>\n",
       "      <th>Feature</th>\n",
       "      <th>Logic</th>\n",
       "      <th>If missing value</th>\n",
       "    </tr>\n",
       "  </thead>\n",
       "  <tbody>\n",
       "    <tr>\n",
       "      <th>0</th>\n",
       "      <td>1</td>\n",
       "      <td>tot_claim_cnt_l180d</td>\n",
       "      <td>Description: number of claims for last 180 day...</td>\n",
       "      <td>In case no claims, then put -3 as a value of t...</td>\n",
       "    </tr>\n",
       "    <tr>\n",
       "      <th>1</th>\n",
       "      <td>2</td>\n",
       "      <td>disb_bank_loan_wo_tbc</td>\n",
       "      <td>Description: Sum of exposue of loans without T...</td>\n",
       "      <td>In case no claims, then put -3 as a value of t...</td>\n",
       "    </tr>\n",
       "    <tr>\n",
       "      <th>2</th>\n",
       "      <td>3</td>\n",
       "      <td>day_sinlastloan</td>\n",
       "      <td>Description: Number of days since last loan. \\...</td>\n",
       "      <td>In case no claims at all, then put -3 as a val...</td>\n",
       "    </tr>\n",
       "  </tbody>\n",
       "</table>\n",
       "</div>"
      ]
     },
     "execution_count": 18,
     "metadata": {},
     "output_type": "execute_result"
    }
   ],
   "execution_count": 18
  },
  {
   "cell_type": "code",
   "id": "2ca50fb420acddb6",
   "metadata": {
    "ExecuteTime": {
     "end_time": "2024-06-03T06:40:27.013842Z",
     "start_time": "2024-06-03T06:40:27.006352Z"
    }
   },
   "source": [
    "df.head()"
   ],
   "outputs": [
    {
     "data": {
      "text/plain": [
       "          id                  application_date  \\\n",
       "0  2925210.0  2024-02-12 19:22:46.652000+00:00   \n",
       "1  2925211.0  2024-02-12 19:24:29.135000+00:00   \n",
       "2  2925212.0  2024-02-12 19:24:41.493000+00:00   \n",
       "3  2925213.0  2024-02-12 19:24:29.135000+00:00   \n",
       "4  2925214.0  2024-02-12 19:24:56.857000+00:00   \n",
       "\n",
       "                                           contracts  \n",
       "0                                                NaN  \n",
       "1  [{\"contract_id\": 522530, \"bank\": \"003\", \"summa...  \n",
       "2                                                NaN  \n",
       "3  [{\"contract_id\": 522530, \"bank\": \"003\", \"summa...  \n",
       "4                                                NaN  "
      ],
      "text/html": [
       "<div>\n",
       "<style scoped>\n",
       "    .dataframe tbody tr th:only-of-type {\n",
       "        vertical-align: middle;\n",
       "    }\n",
       "\n",
       "    .dataframe tbody tr th {\n",
       "        vertical-align: top;\n",
       "    }\n",
       "\n",
       "    .dataframe thead th {\n",
       "        text-align: right;\n",
       "    }\n",
       "</style>\n",
       "<table border=\"1\" class=\"dataframe\">\n",
       "  <thead>\n",
       "    <tr style=\"text-align: right;\">\n",
       "      <th></th>\n",
       "      <th>id</th>\n",
       "      <th>application_date</th>\n",
       "      <th>contracts</th>\n",
       "    </tr>\n",
       "  </thead>\n",
       "  <tbody>\n",
       "    <tr>\n",
       "      <th>0</th>\n",
       "      <td>2925210.0</td>\n",
       "      <td>2024-02-12 19:22:46.652000+00:00</td>\n",
       "      <td>NaN</td>\n",
       "    </tr>\n",
       "    <tr>\n",
       "      <th>1</th>\n",
       "      <td>2925211.0</td>\n",
       "      <td>2024-02-12 19:24:29.135000+00:00</td>\n",
       "      <td>[{\"contract_id\": 522530, \"bank\": \"003\", \"summa...</td>\n",
       "    </tr>\n",
       "    <tr>\n",
       "      <th>2</th>\n",
       "      <td>2925212.0</td>\n",
       "      <td>2024-02-12 19:24:41.493000+00:00</td>\n",
       "      <td>NaN</td>\n",
       "    </tr>\n",
       "    <tr>\n",
       "      <th>3</th>\n",
       "      <td>2925213.0</td>\n",
       "      <td>2024-02-12 19:24:29.135000+00:00</td>\n",
       "      <td>[{\"contract_id\": 522530, \"bank\": \"003\", \"summa...</td>\n",
       "    </tr>\n",
       "    <tr>\n",
       "      <th>4</th>\n",
       "      <td>2925214.0</td>\n",
       "      <td>2024-02-12 19:24:56.857000+00:00</td>\n",
       "      <td>NaN</td>\n",
       "    </tr>\n",
       "  </tbody>\n",
       "</table>\n",
       "</div>"
      ]
     },
     "execution_count": 19,
     "metadata": {},
     "output_type": "execute_result"
    }
   ],
   "execution_count": 19
  },
  {
   "cell_type": "code",
   "id": "7e85e2c6dede9c0d",
   "metadata": {
    "ExecuteTime": {
     "end_time": "2024-06-03T06:40:27.216125Z",
     "start_time": "2024-06-03T06:40:27.210957Z"
    }
   },
   "source": [
    "df.info()"
   ],
   "outputs": [
    {
     "name": "stdout",
     "output_type": "stream",
     "text": [
      "<class 'pandas.core.frame.DataFrame'>\n",
      "RangeIndex: 1000 entries, 0 to 999\n",
      "Data columns (total 3 columns):\n",
      " #   Column            Non-Null Count  Dtype  \n",
      "---  ------            --------------  -----  \n",
      " 0   id                1000 non-null   float64\n",
      " 1   application_date  1000 non-null   object \n",
      " 2   contracts         495 non-null    object \n",
      "dtypes: float64(1), object(2)\n",
      "memory usage: 23.6+ KB\n"
     ]
    }
   ],
   "execution_count": 20
  },
  {
   "cell_type": "code",
   "id": "4c94f0dab781b607",
   "metadata": {
    "ExecuteTime": {
     "end_time": "2024-06-03T06:40:27.403555Z",
     "start_time": "2024-06-03T06:40:27.400602Z"
    }
   },
   "source": [
    "df.replace(np.nan, None, inplace=True)"
   ],
   "outputs": [],
   "execution_count": 21
  },
  {
   "cell_type": "code",
   "id": "5828931775932861",
   "metadata": {
    "ExecuteTime": {
     "end_time": "2024-06-03T06:40:27.574211Z",
     "start_time": "2024-06-03T06:40:27.568664Z"
    }
   },
   "source": [
    "df.head()"
   ],
   "outputs": [
    {
     "data": {
      "text/plain": [
       "          id                  application_date  \\\n",
       "0  2925210.0  2024-02-12 19:22:46.652000+00:00   \n",
       "1  2925211.0  2024-02-12 19:24:29.135000+00:00   \n",
       "2  2925212.0  2024-02-12 19:24:41.493000+00:00   \n",
       "3  2925213.0  2024-02-12 19:24:29.135000+00:00   \n",
       "4  2925214.0  2024-02-12 19:24:56.857000+00:00   \n",
       "\n",
       "                                           contracts  \n",
       "0                                               None  \n",
       "1  [{\"contract_id\": 522530, \"bank\": \"003\", \"summa...  \n",
       "2                                               None  \n",
       "3  [{\"contract_id\": 522530, \"bank\": \"003\", \"summa...  \n",
       "4                                               None  "
      ],
      "text/html": [
       "<div>\n",
       "<style scoped>\n",
       "    .dataframe tbody tr th:only-of-type {\n",
       "        vertical-align: middle;\n",
       "    }\n",
       "\n",
       "    .dataframe tbody tr th {\n",
       "        vertical-align: top;\n",
       "    }\n",
       "\n",
       "    .dataframe thead th {\n",
       "        text-align: right;\n",
       "    }\n",
       "</style>\n",
       "<table border=\"1\" class=\"dataframe\">\n",
       "  <thead>\n",
       "    <tr style=\"text-align: right;\">\n",
       "      <th></th>\n",
       "      <th>id</th>\n",
       "      <th>application_date</th>\n",
       "      <th>contracts</th>\n",
       "    </tr>\n",
       "  </thead>\n",
       "  <tbody>\n",
       "    <tr>\n",
       "      <th>0</th>\n",
       "      <td>2925210.0</td>\n",
       "      <td>2024-02-12 19:22:46.652000+00:00</td>\n",
       "      <td>None</td>\n",
       "    </tr>\n",
       "    <tr>\n",
       "      <th>1</th>\n",
       "      <td>2925211.0</td>\n",
       "      <td>2024-02-12 19:24:29.135000+00:00</td>\n",
       "      <td>[{\"contract_id\": 522530, \"bank\": \"003\", \"summa...</td>\n",
       "    </tr>\n",
       "    <tr>\n",
       "      <th>2</th>\n",
       "      <td>2925212.0</td>\n",
       "      <td>2024-02-12 19:24:41.493000+00:00</td>\n",
       "      <td>None</td>\n",
       "    </tr>\n",
       "    <tr>\n",
       "      <th>3</th>\n",
       "      <td>2925213.0</td>\n",
       "      <td>2024-02-12 19:24:29.135000+00:00</td>\n",
       "      <td>[{\"contract_id\": 522530, \"bank\": \"003\", \"summa...</td>\n",
       "    </tr>\n",
       "    <tr>\n",
       "      <th>4</th>\n",
       "      <td>2925214.0</td>\n",
       "      <td>2024-02-12 19:24:56.857000+00:00</td>\n",
       "      <td>None</td>\n",
       "    </tr>\n",
       "  </tbody>\n",
       "</table>\n",
       "</div>"
      ]
     },
     "execution_count": 22,
     "metadata": {},
     "output_type": "execute_result"
    }
   ],
   "execution_count": 22
  },
  {
   "cell_type": "code",
   "id": "98fcb9b511fc5004",
   "metadata": {
    "ExecuteTime": {
     "end_time": "2024-06-03T06:40:27.789973Z",
     "start_time": "2024-06-03T06:40:27.747695Z"
    }
   },
   "source": [
    "contract_features['tot_claim_cnt_l180d'] = df['contracts'].apply(tot_claim_cnt_l180d)"
   ],
   "outputs": [],
   "execution_count": 23
  },
  {
   "cell_type": "code",
   "id": "cbdb34d09db9bb9d",
   "metadata": {
    "ExecuteTime": {
     "end_time": "2024-06-03T06:40:27.911392Z",
     "start_time": "2024-06-03T06:40:27.899252Z"
    }
   },
   "source": [
    "contract_features['disb_bank_loan_wo_tbc'] = df['contracts'].apply(disb_bank_loan_wo_tbc)"
   ],
   "outputs": [],
   "execution_count": 24
  },
  {
   "cell_type": "code",
   "id": "ff936c714d8774ab",
   "metadata": {
    "ExecuteTime": {
     "end_time": "2024-06-03T06:40:28.091895Z",
     "start_time": "2024-06-03T06:40:28.066595Z"
    }
   },
   "source": "contract_features['day_sinlastloan'] = df.apply(lambda x: day_sinlastloan( x.contracts, x.application_date), axis=1)",
   "outputs": [],
   "execution_count": 25
  },
  {
   "cell_type": "code",
   "id": "2db589395737a556",
   "metadata": {
    "ExecuteTime": {
     "end_time": "2024-06-03T06:40:28.227184Z",
     "start_time": "2024-06-03T06:40:28.223112Z"
    }
   },
   "source": [
    "contract_features.head()"
   ],
   "outputs": [
    {
     "data": {
      "text/plain": [
       "   tot_claim_cnt_l180d  disb_bank_loan_wo_tbc  day_sinlastloan\n",
       "0                   -3                     -3               -3\n",
       "1                   53                      0              430\n",
       "2                   -3                     -3               -3\n",
       "3                   53                      0              430\n",
       "4                   -3                     -3               -3"
      ],
      "text/html": [
       "<div>\n",
       "<style scoped>\n",
       "    .dataframe tbody tr th:only-of-type {\n",
       "        vertical-align: middle;\n",
       "    }\n",
       "\n",
       "    .dataframe tbody tr th {\n",
       "        vertical-align: top;\n",
       "    }\n",
       "\n",
       "    .dataframe thead th {\n",
       "        text-align: right;\n",
       "    }\n",
       "</style>\n",
       "<table border=\"1\" class=\"dataframe\">\n",
       "  <thead>\n",
       "    <tr style=\"text-align: right;\">\n",
       "      <th></th>\n",
       "      <th>tot_claim_cnt_l180d</th>\n",
       "      <th>disb_bank_loan_wo_tbc</th>\n",
       "      <th>day_sinlastloan</th>\n",
       "    </tr>\n",
       "  </thead>\n",
       "  <tbody>\n",
       "    <tr>\n",
       "      <th>0</th>\n",
       "      <td>-3</td>\n",
       "      <td>-3</td>\n",
       "      <td>-3</td>\n",
       "    </tr>\n",
       "    <tr>\n",
       "      <th>1</th>\n",
       "      <td>53</td>\n",
       "      <td>0</td>\n",
       "      <td>430</td>\n",
       "    </tr>\n",
       "    <tr>\n",
       "      <th>2</th>\n",
       "      <td>-3</td>\n",
       "      <td>-3</td>\n",
       "      <td>-3</td>\n",
       "    </tr>\n",
       "    <tr>\n",
       "      <th>3</th>\n",
       "      <td>53</td>\n",
       "      <td>0</td>\n",
       "      <td>430</td>\n",
       "    </tr>\n",
       "    <tr>\n",
       "      <th>4</th>\n",
       "      <td>-3</td>\n",
       "      <td>-3</td>\n",
       "      <td>-3</td>\n",
       "    </tr>\n",
       "  </tbody>\n",
       "</table>\n",
       "</div>"
      ]
     },
     "execution_count": 26,
     "metadata": {},
     "output_type": "execute_result"
    }
   ],
   "execution_count": 26
  },
  {
   "cell_type": "code",
   "id": "2c850ef40468ca0c",
   "metadata": {
    "ExecuteTime": {
     "end_time": "2024-06-03T06:40:28.414030Z",
     "start_time": "2024-06-03T06:40:28.405554Z"
    }
   },
   "source": [
    "contract_features.to_csv('contract_features.csv', columns=contract_features.columns, index=False)"
   ],
   "outputs": [],
   "execution_count": 27
  },
  {
   "metadata": {},
   "cell_type": "code",
   "outputs": [],
   "execution_count": null,
   "source": "",
   "id": "18e31bdd9edbb0dd"
  }
 ],
 "metadata": {
  "kernelspec": {
   "display_name": "Python 3 (ipykernel)",
   "language": "python",
   "name": "python3"
  },
  "language_info": {
   "codemirror_mode": {
    "name": "ipython",
    "version": 3
   },
   "file_extension": ".py",
   "mimetype": "text/x-python",
   "name": "python",
   "nbconvert_exporter": "python",
   "pygments_lexer": "ipython3",
   "version": "3.11.9"
  }
 },
 "nbformat": 4,
 "nbformat_minor": 5
}
